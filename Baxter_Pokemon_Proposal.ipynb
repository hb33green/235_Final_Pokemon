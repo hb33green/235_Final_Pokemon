{
 "cells": [
  {
   "cell_type": "markdown",
   "metadata": {},
   "source": [
    "# Final Project Proposal\n",
    "\n",
    "By: Hayden Baxter (831 865 630)"
   ]
  },
  {
   "cell_type": "markdown",
   "metadata": {},
   "source": [
    "## Exploring Pokémon Through Data\n",
    "\n",
    "I must give credit where credit is due.\n",
    "\n",
    "I scraped all of the data that will be imported below from [Pokémon Showdown](https://pokemonshowdown.com/). This website is a browser based fan-made game for people to explore the various aspects of Pokémon gameplay, without having to spend the time or money on the actual video game series itself.\n",
    "\n",
    "While this website is not official, it has a large enough player base that is dedicated to the franchise as to where their database is highly detailed and accurate. I could have pulled this information from an official Pokémon wiki or other web source, but I found that those other websites tended to be muddled with extra ads, useless information, and css styling that was difficult to get around with my web scraping methods.\n",
    "\n",
    "Speaking of web scraping, I wrote up a script using python and making use of [Selenium](https://www.selenium.dev/) and [Gecko Driver](https://github.com/mozilla/geckodriver/releases). Using these tools, it only took me slightly less than a week to write a script and grab this data. I couldn't figure out how to include the script in this Jupyter Notebook, so it will be available in on my Github project for this assignmment.\n",
    "\n",
    "All of this work and data is available through my Github Repository for the project [here](https://github.com/hb33green/235_Final_Pokemon)."
   ]
  },
  {
   "cell_type": "markdown",
   "metadata": {},
   "source": [
    "### What does the data include?\n",
    "\n",
    "This data includes the following:\n",
    "* ID: The ID of the pokemon in the National Pokédex\n",
    "* Name: The official name of the Pokémon\n",
    "* Subname: Sometimes a Pokémon has more than one form (such as alolan form or a mega evolution). These are represented here as different entities.\n",
    "* Generation: This is the generation that the Pokémon is considered to be from. This generally corresponds to the game(s) that each pokemon was released with.\n",
    "* Sprite: On Pokémon Showdown, each Pokémon had a sprite that was used for the game. I have the link to that sprite for possible use later.\n",
    "* Icon Locations: Each Pokémon, aside from their sprite, also has an 40 by 30 pixel icon. This icon is on a sprite sheet that you can view [here](https://play.pokemonshowdown.com/sprites/pokemonicons-sheet.png?g8) or in the [Github Repository](https://github.com/hb33green/235_Final_Pokemon/blob/master/pokemonicons-sheet.png).\n",
    "* Tier: This is a stat that is specific to Pokémon Showdown. They have their own specific set of rules to moderate gameplay on their website, and these tiers are a specification on what pokemon are allowed to be used where.\n",
    "* Type 1 and 2: Pokémon can have up to two types (minimum of 1). This defines what moves that will be resistant or susceptable to.\n",
    "* Abilities: A Pokémon can have one ability from a list of up to 4. 1 and 2 can appear naturally in the game, Hidden abilities must be on the pokemon from birth, and the rare special ability each have special circumstances surrounding their usage.\n",
    "* Egg Groups: These groups determine what Pokémon can breed with eachother.\n",
    "* HP, ATK, DEF, SPA, SPD, SPE, and BST: These are representations of each Pokémon's base stats.\n",
    "* Size: While generally not useful for gameplay, it is an interesting stat that specifies the Pokémon's length in meters\n",
    "* Weight: Rarely useful in gameplay, but again, it is an interesting stat that specifies the Pokémon's weight in kilograms.\n",
    "* Gender Ratio: This is ration in which Pokémon can be found in the wild.\n",
    "* Color: The games assign each Pokémon a single color, even though their sprites can be made up of many.\n",
    "* Link: This is the link to the individal page of each Pokémon."
   ]
  },
  {
   "cell_type": "markdown",
   "metadata": {},
   "source": [
    "### What do I want to do with it?\n",
    "\n",
    "This dataset contains quite a few columns of data, and I don't necessarily intend on using all of it. There are still a few things that I'm interested in, but I'm not exactly sure what constitutes an acceptable amount of work for this assignment or what would be considered too much. Anyways, I have a list of questions that I want to answer with this data below, in the order that I find them interesting.\n",
    "\n",
    "- How many of each type are there, and how does the rate of a specific Pokémon type change from generation to generation.\n",
    "- How many of the dual type combinations are there, and how many on these combinations have at least one Pokémon of that typing?\n",
    "- How do the Pokémon stack up against one-another in terms of their base stats, and are there any biases in power towards specific generations or types?\n",
    "- What are average sizes and weights for different Pokémon over the generations and types, and are there any type or generation biases related to size and weight?\n",
    "- What gender biases exist in Pokémon, and how do they change based on type or generation?\n",
    "- Is there a correlation between the color that a Pokémon is, and what their gender ratio is?\n",
    "- How closely related to typing is the color of a Pokémon.\n",
    "- This last one I'm really not sure if I'd ever be able to get to, since I'm still not entirely familiar with making models. But in case we learn about it in this class before this assignment is due, I want to have it here because I am really truly interested in it. Using only the icons, sprites, and colors of a Pokémon, can I train a model that can differentiate between different colors of things in the real world?"
   ]
  },
  {
   "cell_type": "markdown",
   "metadata": {},
   "source": [
    "### To conclude\n",
    "\n",
    "I think that this data will be more of an investigation into the game design of Pokémon rather than into the Pokémon themselves. I find human behavior interesting, and I hope to understand a bit more about the time, effort, and work that Gamefreak and Nintendo put into this franchise, and how they make it a balanced and fun experience for people of all ages."
   ]
  }
 ],
 "metadata": {
  "kernelspec": {
   "display_name": "Python 3",
   "language": "python",
   "name": "python3"
  },
  "language_info": {
   "codemirror_mode": {
    "name": "ipython",
    "version": 3
   },
   "file_extension": ".py",
   "mimetype": "text/x-python",
   "name": "python",
   "nbconvert_exporter": "python",
   "pygments_lexer": "ipython3",
   "version": "3.7.6"
  }
 },
 "nbformat": 4,
 "nbformat_minor": 4
}
