{
 "cells": [
  {
   "cell_type": "markdown",
   "metadata": {},
   "source": [
    "# Final Project Proposal\n",
    "\n",
    "## Exploring Pokémon Through Data"
   ]
  },
  {
   "cell_type": "markdown",
   "metadata": {},
   "source": [
    "### Where did this data come from?\n",
    "\n",
    "I must give credit where credit is due.\n",
    "\n",
    "I scraped all of the data that will be imported below from [Pokémon Showdown](https://pokemonshowdown.com/) . This website is a browser based fan-made game for people to explore the various aspects of Pokémon gameplay, without having to spend the time or money on the actual video game series itself.\n",
    "\n",
    "While this website is not official, it has a large enough player base that is dedicated to the franchise as to where their database is highly detailed and accurate. I could have pulled this information from an official Pokémon wiki or other web source, but I found that those other websites tended to be muddled with extra ads, useless information, and css styling that was difficult to get around with my web scraping methods.\n",
    "\n",
    "Speaking of web scraping, I wrote up a script using python and making use of [Selenium](https://www.selenium.dev/) and [Gecko Driver](https://github.com/mozilla/geckodriver/releases). Using these tools, it only took me slightly less than a week to write a script and grab this data. I couldn't figure out how to include the script in this Jupyter Notebook, so it will be available in on my Github project for this assignmment."
   ]
  },
  {
   "cell_type": "code",
   "execution_count": null,
   "metadata": {},
   "outputs": [],
   "source": []
  }
 ],
 "metadata": {
  "kernelspec": {
   "display_name": "Python 3",
   "language": "python",
   "name": "python3"
  },
  "language_info": {
   "codemirror_mode": {
    "name": "ipython",
    "version": 3
   },
   "file_extension": ".py",
   "mimetype": "text/x-python",
   "name": "python",
   "nbconvert_exporter": "python",
   "pygments_lexer": "ipython3",
   "version": "3.7.6"
  }
 },
 "nbformat": 4,
 "nbformat_minor": 4
}
